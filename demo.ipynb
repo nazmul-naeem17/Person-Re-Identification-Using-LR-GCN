{
  "cells": [
    {
      "cell_type": "markdown",
      "metadata": {
        "colab_type": "text",
        "id": "view-in-github"
      },
      "source": [
        "<a href=\"https://colab.research.google.com/github/SurajDonthi/Multi-Camera-Person-Re-Identification/blob/master/demo.ipynb\" target=\"_parent\"><img src=\"https://colab.research.google.com/assets/colab-badge.svg\" alt=\"Open In Colab\"/></a>"
      ]
    },
    {
      "cell_type": "code",
      "execution_count": null,
      "metadata": {
        "id": "UAkgIOSXbiuM"
      },
      "outputs": [],
      "source": [
        "import os\n",
        "from argparse import Namespace\n",
        "\n",
        "from pathlib import Path\n",
        "from pytorch_lightning import Trainer\n",
        "from pytorch_lightning.callbacks.model_checkpoint import ModelCheckpoint\n",
        "# from pytorch_lightning.profiler import AdvancedProfiler\n",
        "from pytorch_lightning.loggers.tensorboard import TensorBoardLogger\n",
        "from pytorch_lightning.loggers.test_tube import TestTubeLogger\n",
        "\n",
        "from mtmct_reid.data import ReIDDataModule\n",
        "from mtmct_reid.engine import ST_ReID\n",
        "from mtmct_reid.utils import save_args\n",
        "\n",
        "import warnings\n",
        "\n",
        "warnings.filterwarnings('ignore')"
      ]
    },
    {
      "cell_type": "markdown",
      "metadata": {
        "id": "fkpp6btynLje"
      },
      "source": [
        "# Training"
      ]
    },
    {
      "cell_type": "code",
      "execution_count": null,
      "metadata": {
        "id": "GZGJYhoum2Jc"
      },
      "outputs": [],
      "source": [
        "%load_ext tensorboard\n",
        "%tensorboard --logdir logs/"
      ]
    },
    {
      "cell_type": "code",
      "execution_count": null,
      "metadata": {
        "id": "r5TCS_ejbxeM"
      },
      "outputs": [],
      "source": [
        "args = dict(\n",
        "    description = \"Training and Predicting on Market-1501 Dataset\",\n",
        "    data_dir = \"data/raw/Market-1501\",\n",
        "    dataset = \"market\",\n",
        "    log_path = \"logs/\",\n",
        "\n",
        "    learning_rate = 0.01,\n",
        "    criterion = \"cross_entropy\",\n",
        "    rerank = False,\n",
        "    # random_erasing = True,\n",
        "    # color_jitter = True,\n",
        "\n",
        "    gpus = 1,\n",
        "    max_epochs = 60,\n",
        "    precision = 16,\n",
        "    train_batchsize = 64,\n",
        "    val_batchsize = 64,\n",
        "    test_batchsize = 64,\n",
        "    limit_val_batches = 1,\n",
        "    profiler = True,\n",
        "    progress_bar_refresh_rate = 20\n",
        ")\n",
        "\n",
        "args = Namespace(**args)"
      ]
    },
    {
      "cell_type": "code",
      "execution_count": null,
      "metadata": {
        "id": "HmFXmbJF5zPh"
      },
      "outputs": [],
      "source": [
        "tt_logger = TestTubeLogger(save_dir=args.log_path, name=\"\",\n",
        "                            description=args.description,\n",
        "                            )\n",
        "\n",
        "log_dir = Path(tt_logger.save_dir) / f\"version_{tt_logger.version}\"\n",
        "\n",
        "checkpoint_dir = log_dir / \"checkpoints\"\n",
        "os.makedirs(checkpoint_dir, exist_ok=True)\n",
        "chkpt_callback = ModelCheckpoint(checkpoint_dir,\n",
        "                                    monitor='Loss/val_loss/dataloader_idx_2',   # Pytorch-lightning appends extra path\n",
        "                                    save_last=True,\n",
        "                                    mode='min',\n",
        "                                    save_top_k=10,\n",
        "                                    )\n",
        "\n",
        "data_module = ReIDDataModule.from_argparse_args(args)\n",
        "\n",
        "model = ST_ReID(data_module.num_classes, learning_rate=args.learning_rate,\n",
        "                criterion=args.criterion, rerank=args.rerank)\n",
        "\n",
        "save_args(args, log_dir)\n",
        "\n",
        "trainer = Trainer.from_argparse_args(args, logger=[tt_logger],\n",
        "                                        checkpoint_callback=chkpt_callback,\n",
        "                                        profiler=True)  # AdvancedProfiler()\n",
        "\n",
        "# \n",
        "trainer.fit(model, data_module)"
      ]
    },
    {
      "cell_type": "markdown",
      "metadata": {
        "id": "TjRrg-CUm2B-"
      },
      "source": [
        "# Testing/Evaluation\n",
        "\n",
        "Use the model to predict matches from other cameras."
      ]
    },
    {
      "cell_type": "code",
      "execution_count": null,
      "metadata": {
        "id": "Osz2gI43m11l"
      },
      "outputs": [],
      "source": [
        "# Testing the loss & accuracy of the model\n",
        "trainer.test(model)"
      ]
    },
    {
      "cell_type": "markdown",
      "metadata": {
        "id": "-mSZQsqhm1vK"
      },
      "source": [
        "# Save the results"
      ]
    },
    {
      "cell_type": "code",
      "execution_count": null,
      "metadata": {
        "id": "V0xdn_xim1ol"
      },
      "outputs": [],
      "source": [
        "from google.colab import files\n",
        "files.download(\"/content/experiment_results.zip\")"
      ]
    }
  ],
  "metadata": {
    "accelerator": "GPU",
    "colab": {
      "collapsed_sections": [],
      "include_colab_link": true,
      "name": "Colab demo.ipynb",
      "provenance": []
    },
    "kernelspec": {
      "display_name": "Python 3",
      "name": "python3"
    },
    "language_info": {}
  },
  "nbformat": 4,
  "nbformat_minor": 2
}
